{
 "cells": [
  {
   "cell_type": "markdown",
   "metadata": {},
   "source": [
    "<h1> Individual Assignment: Data Exploration"
   ]
  },
  {
   "cell_type": "markdown",
   "metadata": {},
   "source": [
    "For this indiviudal assigment, I will run through a list of commands so I can explore my own dataset. I am unfarmiliar with each dataset below (I'm exploring two datasets), so commands like .shape, .info, or querying commands will allow me understand the size and variables associated with each dataset. In each section below, I will comment on my thought process."
   ]
  },
  {
   "cell_type": "markdown",
   "metadata": {},
   "source": [
    "<h2> Getting Started"
   ]
  },
  {
   "cell_type": "markdown",
   "metadata": {},
   "source": [
    "**Geopanda Download**\n",
    "\n",
    "What this actually does, I don't quite know. Though _I do know_ this feature will allow me to import a variety of spatial data formats, and plot them on a map if all goes according to plan"
   ]
  },
  {
   "cell_type": "code",
   "execution_count": 1,
   "metadata": {},
   "outputs": [],
   "source": [
    "# import geopandas as gpd\n",
    "import geopandas as gpd"
   ]
  },
  {
   "cell_type": "markdown",
   "metadata": {},
   "source": [
    "Shoud now be able to plot map eventually"
   ]
  },
  {
   "cell_type": "markdown",
   "metadata": {},
   "source": [
    "**Defining and Reading Shape File**"
   ]
  },
  {
   "cell_type": "markdown",
   "metadata": {},
   "source": [
    "I'm importing my datasets."
   ]
  },
  {
   "cell_type": "code",
   "execution_count": 2,
   "metadata": {},
   "outputs": [],
   "source": [
    "# rapid_BRT = gpd.read_file('InsertHere')\n",
    "## note file location is required; identidy folders and subfolders e.g. Data/RapidBRT, File/Subfile/DocName\n",
    "rapid_BRT = gpd.read_file('Data/RapidBRT/RapidBRT1219.shp')"
   ]
  },
  {
   "cell_type": "markdown",
   "metadata": {},
   "source": [
    "Data is now imported for the above datasets. "
   ]
  },
  {
   "cell_type": "markdown",
   "metadata": {},
   "source": [
    "<h2> Getting to Know My Data"
   ]
  },
  {
   "cell_type": "markdown",
   "metadata": {},
   "source": [
    "I'm working with two shape files here. One is of rapid bus routes from LA Metro, and the other is from is LA Neigborhoods in LA and Orange Counties from the LA times. I may focus on one, but the hope is that by repeating commands with different datasets, I will become more farmiliar in manipulating shape files"
   ]
  },
  {
   "cell_type": "markdown",
   "metadata": {},
   "source": [
    "Are these gpds?"
   ]
  },
  {
   "cell_type": "code",
   "execution_count": 4,
   "metadata": {},
   "outputs": [
    {
     "data": {
      "text/plain": [
       "geopandas.geodataframe.GeoDataFrame"
      ]
     },
     "execution_count": 4,
     "metadata": {},
     "output_type": "execute_result"
    }
   ],
   "source": [
    "# ensuring geopanda data type\n",
    "type(rapid_BRT)"
   ]
  },
  {
   "cell_type": "markdown",
   "metadata": {},
   "source": [
    "Yes, they are gpds."
   ]
  },
  {
   "cell_type": "markdown",
   "metadata": {},
   "source": [
    "<h3> Rapid BRT Exploration"
   ]
  },
  {
   "cell_type": "markdown",
   "metadata": {},
   "source": [
    "I want some info on my rapid_BRT dataset"
   ]
  },
  {
   "cell_type": "code",
   "execution_count": 6,
   "metadata": {},
   "outputs": [
    {
     "name": "stdout",
     "output_type": "stream",
     "text": [
      "<class 'geopandas.geodataframe.GeoDataFrame'>\n",
      "RangeIndex: 87 entries, 0 to 86\n",
      "Data columns (total 5 columns):\n",
      " #   Column     Non-Null Count  Dtype   \n",
      "---  ------     --------------  -----   \n",
      " 0   VAR_ROUTE  87 non-null     object  \n",
      " 1   VAR_IDENT  87 non-null     object  \n",
      " 2   VAR_DIREC  87 non-null     int64   \n",
      " 3   VAR_DESCR  85 non-null     object  \n",
      " 4   geometry   87 non-null     geometry\n",
      "dtypes: geometry(1), int64(1), object(3)\n",
      "memory usage: 3.5+ KB\n"
     ]
    }
   ],
   "source": [
    "# overview of my rapid_BRT data\n",
    "rapid_BRT.info()"
   ]
  },
  {
   "cell_type": "markdown",
   "metadata": {},
   "source": [
    "Above is detailing what's in my data. "
   ]
  },
  {
   "cell_type": "markdown",
   "metadata": {},
   "source": [
    "Looking at my datatypes, should be similar to above."
   ]
  },
  {
   "cell_type": "code",
   "execution_count": 7,
   "metadata": {},
   "outputs": [
    {
     "data": {
      "text/plain": [
       "VAR_ROUTE      object\n",
       "VAR_IDENT      object\n",
       "VAR_DIREC       int64\n",
       "VAR_DESCR      object\n",
       "geometry     geometry\n",
       "dtype: object"
      ]
     },
     "execution_count": 7,
     "metadata": {},
     "output_type": "execute_result"
    }
   ],
   "source": [
    "# want to take a look at dyptes though I don't expect to see any new information\n",
    "rapid_BRT.dtypes"
   ]
  },
  {
   "cell_type": "markdown",
   "metadata": {},
   "source": [
    "Note here, that gpds describe datatypes differently than pd or in python"
   ]
  },
  {
   "cell_type": "markdown",
   "metadata": {},
   "source": [
    "I'm checking the shape of my data."
   ]
  },
  {
   "cell_type": "code",
   "execution_count": 8,
   "metadata": {},
   "outputs": [
    {
     "data": {
      "text/plain": [
       "(87, 5)"
      ]
     },
     "execution_count": 8,
     "metadata": {},
     "output_type": "execute_result"
    }
   ],
   "source": [
    "# how many rows and columns am I working with?\n",
    "rapid_BRT.shape"
   ]
  },
  {
   "cell_type": "markdown",
   "metadata": {},
   "source": [
    "I can see there are 87 rows and 5 columns. "
   ]
  },
  {
   "cell_type": "markdown",
   "metadata": {},
   "source": [
    "Checking my columns"
   ]
  },
  {
   "cell_type": "code",
   "execution_count": 9,
   "metadata": {},
   "outputs": [
    {
     "data": {
      "text/plain": [
       "['VAR_ROUTE', 'VAR_IDENT', 'VAR_DIREC', 'VAR_DESCR', 'geometry']"
      ]
     },
     "execution_count": 9,
     "metadata": {},
     "output_type": "execute_result"
    }
   ],
   "source": [
    "# what are my columns? \n",
    "rapid_BRT.columns.to_list()"
   ]
  },
  {
   "cell_type": "markdown",
   "metadata": {},
   "source": [
    "The above lists my columns. "
   ]
  },
  {
   "cell_type": "markdown",
   "metadata": {},
   "source": [
    "What does the first 5 rows of my data look like?"
   ]
  },
  {
   "cell_type": "code",
   "execution_count": 10,
   "metadata": {
    "scrolled": false
   },
   "outputs": [
    {
     "data": {
      "text/html": [
       "<div>\n",
       "<style scoped>\n",
       "    .dataframe tbody tr th:only-of-type {\n",
       "        vertical-align: middle;\n",
       "    }\n",
       "\n",
       "    .dataframe tbody tr th {\n",
       "        vertical-align: top;\n",
       "    }\n",
       "\n",
       "    .dataframe thead th {\n",
       "        text-align: right;\n",
       "    }\n",
       "</style>\n",
       "<table border=\"1\" class=\"dataframe\">\n",
       "  <thead>\n",
       "    <tr style=\"text-align: right;\">\n",
       "      <th></th>\n",
       "      <th>VAR_ROUTE</th>\n",
       "      <th>VAR_IDENT</th>\n",
       "      <th>VAR_DIREC</th>\n",
       "      <th>VAR_DESCR</th>\n",
       "      <th>geometry</th>\n",
       "    </tr>\n",
       "  </thead>\n",
       "  <tbody>\n",
       "    <tr>\n",
       "      <th>0</th>\n",
       "      <td>704</td>\n",
       "      <td>E1</td>\n",
       "      <td>2</td>\n",
       "      <td>END TO END - RAPID - TO DIV13O</td>\n",
       "      <td>LINESTRING (-118.49997 34.01574, -118.50054 34...</td>\n",
       "    </tr>\n",
       "    <tr>\n",
       "      <th>1</th>\n",
       "      <td>704</td>\n",
       "      <td>E3</td>\n",
       "      <td>2</td>\n",
       "      <td>NEBSEP Shortline</td>\n",
       "      <td>LINESTRING (-118.44327 34.04567, -118.44335 34...</td>\n",
       "    </tr>\n",
       "    <tr>\n",
       "      <th>2</th>\n",
       "      <td>704</td>\n",
       "      <td>E6</td>\n",
       "      <td>2</td>\n",
       "      <td>TRIPS START SEPSAN</td>\n",
       "      <td>LINESTRING (-118.44356 34.04791, -118.44354 34...</td>\n",
       "    </tr>\n",
       "    <tr>\n",
       "      <th>3</th>\n",
       "      <td>704</td>\n",
       "      <td>W1</td>\n",
       "      <td>3</td>\n",
       "      <td>END TO END- RAPID - FROM DIV13O</td>\n",
       "      <td>LINESTRING (-118.23190 34.05663, -118.23230 34...</td>\n",
       "    </tr>\n",
       "    <tr>\n",
       "      <th>4</th>\n",
       "      <td>704</td>\n",
       "      <td>W3</td>\n",
       "      <td>3</td>\n",
       "      <td>NEBSEP Shortline</td>\n",
       "      <td>LINESTRING (-118.38430 34.08485, -118.38471 34...</td>\n",
       "    </tr>\n",
       "  </tbody>\n",
       "</table>\n",
       "</div>"
      ],
      "text/plain": [
       "  VAR_ROUTE VAR_IDENT  VAR_DIREC                        VAR_DESCR  \\\n",
       "0       704        E1          2   END TO END - RAPID - TO DIV13O   \n",
       "1       704        E3          2                 NEBSEP Shortline   \n",
       "2       704        E6          2               TRIPS START SEPSAN   \n",
       "3       704        W1          3  END TO END- RAPID - FROM DIV13O   \n",
       "4       704        W3          3                 NEBSEP Shortline   \n",
       "\n",
       "                                            geometry  \n",
       "0  LINESTRING (-118.49997 34.01574, -118.50054 34...  \n",
       "1  LINESTRING (-118.44327 34.04567, -118.44335 34...  \n",
       "2  LINESTRING (-118.44356 34.04791, -118.44354 34...  \n",
       "3  LINESTRING (-118.23190 34.05663, -118.23230 34...  \n",
       "4  LINESTRING (-118.38430 34.08485, -118.38471 34...  "
      ]
     },
     "execution_count": 10,
     "metadata": {},
     "output_type": "execute_result"
    }
   ],
   "source": [
    "# quick preview of my data\n",
    "rapid_BRT.head()"
   ]
  },
  {
   "cell_type": "markdown",
   "metadata": {},
   "source": [
    "Above shows the first 5 rows of data. "
   ]
  },
  {
   "cell_type": "markdown",
   "metadata": {},
   "source": [
    "What does the last 5 rows of my data look like?"
   ]
  },
  {
   "cell_type": "code",
   "execution_count": 11,
   "metadata": {},
   "outputs": [
    {
     "data": {
      "text/html": [
       "<div>\n",
       "<style scoped>\n",
       "    .dataframe tbody tr th:only-of-type {\n",
       "        vertical-align: middle;\n",
       "    }\n",
       "\n",
       "    .dataframe tbody tr th {\n",
       "        vertical-align: top;\n",
       "    }\n",
       "\n",
       "    .dataframe thead th {\n",
       "        text-align: right;\n",
       "    }\n",
       "</style>\n",
       "<table border=\"1\" class=\"dataframe\">\n",
       "  <thead>\n",
       "    <tr style=\"text-align: right;\">\n",
       "      <th></th>\n",
       "      <th>VAR_ROUTE</th>\n",
       "      <th>VAR_IDENT</th>\n",
       "      <th>VAR_DIREC</th>\n",
       "      <th>VAR_DESCR</th>\n",
       "      <th>geometry</th>\n",
       "    </tr>\n",
       "  </thead>\n",
       "  <tbody>\n",
       "    <tr>\n",
       "      <th>82</th>\n",
       "      <td>901</td>\n",
       "      <td>E2</td>\n",
       "      <td>2</td>\n",
       "      <td>CANOGA STATION LAYOVER</td>\n",
       "      <td>LINESTRING (-118.59682 34.19051, -118.59747 34...</td>\n",
       "    </tr>\n",
       "    <tr>\n",
       "      <th>83</th>\n",
       "      <td>901</td>\n",
       "      <td>W1</td>\n",
       "      <td>3</td>\n",
       "      <td>END TO END</td>\n",
       "      <td>LINESTRING (-118.37799 34.16852, -118.37744 34...</td>\n",
       "    </tr>\n",
       "    <tr>\n",
       "      <th>84</th>\n",
       "      <td>901</td>\n",
       "      <td>W2</td>\n",
       "      <td>3</td>\n",
       "      <td>CANOGA STATION LAYOVER</td>\n",
       "      <td>LINESTRING (-118.57169 34.18742, -118.57207 34...</td>\n",
       "    </tr>\n",
       "    <tr>\n",
       "      <th>85</th>\n",
       "      <td>910</td>\n",
       "      <td>N1</td>\n",
       "      <td>0</td>\n",
       "      <td>END TO END</td>\n",
       "      <td>LINESTRING (-118.28798 33.72493, -118.28798 33...</td>\n",
       "    </tr>\n",
       "    <tr>\n",
       "      <th>86</th>\n",
       "      <td>910</td>\n",
       "      <td>S1</td>\n",
       "      <td>1</td>\n",
       "      <td>None</td>\n",
       "      <td>LINESTRING (-118.04513 34.07202, -118.04598 34...</td>\n",
       "    </tr>\n",
       "  </tbody>\n",
       "</table>\n",
       "</div>"
      ],
      "text/plain": [
       "   VAR_ROUTE VAR_IDENT  VAR_DIREC               VAR_DESCR  \\\n",
       "82       901        E2          2  CANOGA STATION LAYOVER   \n",
       "83       901        W1          3              END TO END   \n",
       "84       901        W2          3  CANOGA STATION LAYOVER   \n",
       "85       910        N1          0              END TO END   \n",
       "86       910        S1          1                    None   \n",
       "\n",
       "                                             geometry  \n",
       "82  LINESTRING (-118.59682 34.19051, -118.59747 34...  \n",
       "83  LINESTRING (-118.37799 34.16852, -118.37744 34...  \n",
       "84  LINESTRING (-118.57169 34.18742, -118.57207 34...  \n",
       "85  LINESTRING (-118.28798 33.72493, -118.28798 33...  \n",
       "86  LINESTRING (-118.04513 34.07202, -118.04598 34...  "
      ]
     },
     "execution_count": 11,
     "metadata": {},
     "output_type": "execute_result"
    }
   ],
   "source": [
    "# preview of tail\n",
    "rapid_BRT.tail()"
   ]
  },
  {
   "cell_type": "markdown",
   "metadata": {},
   "source": [
    "Above shows the last 5 rows of my data."
   ]
  },
  {
   "cell_type": "markdown",
   "metadata": {},
   "source": [
    "Intial take of what these columns mean, plus I get to work on some more Markdown skills:\n",
    "\n",
    "Column Title | What It Means?\n",
    "----------------- |----------------\n",
    "VAR_ROUTE | Bus Route\n",
    "VAR_IDENT | Direction/Number; unsure?\n",
    "VAR_DIREC | Unsure\n",
    "VAR_DESCR | Route Description\n",
    "geometery | Geometry"
   ]
  },
  {
   "cell_type": "markdown",
   "metadata": {},
   "source": [
    "Reminding myself of my columns"
   ]
  },
  {
   "cell_type": "code",
   "execution_count": 16,
   "metadata": {},
   "outputs": [
    {
     "data": {
      "text/plain": [
       "Index(['VAR_ROUTE', 'VAR_IDENT', 'VAR_DIREC', 'VAR_DESCR', 'geometry'], dtype='object')"
      ]
     },
     "execution_count": 16,
     "metadata": {},
     "output_type": "execute_result"
    }
   ],
   "source": [
    "# I know my columns, but let's repeat the action here. May try and rename columns in further sequencing\n",
    "rapid_BRT.columns"
   ]
  },
  {
   "cell_type": "markdown",
   "metadata": {},
   "source": [
    "Ah, those are my columns."
   ]
  },
  {
   "cell_type": "markdown",
   "metadata": {},
   "source": [
    "I am creating a variable which I may manipulate later."
   ]
  },
  {
   "cell_type": "code",
   "execution_count": 21,
   "metadata": {},
   "outputs": [],
   "source": [
    "# going to create a variable for my bus routes\n",
    "BRT_count = rapid_BRT['VAR_ROUTE'].value_counts()"
   ]
  },
  {
   "cell_type": "markdown",
   "metadata": {},
   "source": [
    "Now I'm checking to see if the above variable works with the below command."
   ]
  },
  {
   "cell_type": "code",
   "execution_count": 22,
   "metadata": {},
   "outputs": [
    {
     "data": {
      "text/plain": [
       "720    10\n",
       "745     7\n",
       "704     6\n",
       "744     5\n",
       "728     5\n",
       "762     4\n",
       "780     4\n",
       "901     4\n",
       "705     4\n",
       "733     4\n",
       "754     4\n",
       "734     4\n",
       "760     4\n",
       "710     3\n",
       "750     3\n",
       "770     3\n",
       "740     3\n",
       "794     2\n",
       "910     2\n",
       "757     2\n",
       "788     2\n",
       "751     2\n",
       "Name: VAR_ROUTE, dtype: int64"
      ]
     },
     "execution_count": 22,
     "metadata": {},
     "output_type": "execute_result"
    }
   ],
   "source": [
    "#ensuring BRT_count works\n",
    "BRT_count"
   ]
  },
  {
   "cell_type": "markdown",
   "metadata": {},
   "source": [
    "The above command worked! BRT_count is a new variable that I have defined."
   ]
  },
  {
   "cell_type": "markdown",
   "metadata": {},
   "source": [
    "**Note to self, follow up to check-in on problems with reset.index() command and renaming convention**\n",
    "\n",
    "1. #converting the series to a df; BRT_count = BRT_count.reset.index()\n",
    "1. #working on this reset.index() command;bus_count = bus_count.reset.index()"
   ]
  },
  {
   "cell_type": "markdown",
   "metadata": {},
   "source": [
    "Checking to see the values in my column. "
   ]
  },
  {
   "cell_type": "code",
   "execution_count": 17,
   "metadata": {},
   "outputs": [
    {
     "data": {
      "text/plain": [
       "0     704\n",
       "1     704\n",
       "2     704\n",
       "3     704\n",
       "4     704\n",
       "     ... \n",
       "82    901\n",
       "83    901\n",
       "84    901\n",
       "85    910\n",
       "86    910\n",
       "Name: VAR_ROUTE, Length: 87, dtype: object"
      ]
     },
     "execution_count": 17,
     "metadata": {},
     "output_type": "execute_result"
    }
   ],
   "source": [
    "# scoping values in VAR_ROUTE Column\n",
    "rapid_BRT['VAR_ROUTE']"
   ]
  },
  {
   "cell_type": "markdown",
   "metadata": {},
   "source": [
    "The above shows the beginning and end of one column. "
   ]
  },
  {
   "cell_type": "markdown",
   "metadata": {},
   "source": [
    "Using another method to see the tail ends of a specific column."
   ]
  },
  {
   "cell_type": "code",
   "execution_count": 18,
   "metadata": {},
   "outputs": [
    {
     "data": {
      "text/plain": [
       "0     704\n",
       "1     704\n",
       "2     704\n",
       "3     704\n",
       "4     704\n",
       "     ... \n",
       "82    901\n",
       "83    901\n",
       "84    901\n",
       "85    910\n",
       "86    910\n",
       "Name: VAR_ROUTE, Length: 87, dtype: object"
      ]
     },
     "execution_count": 18,
     "metadata": {},
     "output_type": "execute_result"
    }
   ],
   "source": [
    "# another way to scope out column\n",
    "## prefer this method; looks cleaner\n",
    "rapid_BRT.VAR_ROUTE"
   ]
  },
  {
   "cell_type": "markdown",
   "metadata": {},
   "source": [
    "The output shows the tail ends of my a designated column."
   ]
  },
  {
   "cell_type": "markdown",
   "metadata": {},
   "source": [
    "Combined two commands to see the head of one variable."
   ]
  },
  {
   "cell_type": "code",
   "execution_count": 19,
   "metadata": {},
   "outputs": [
    {
     "data": {
      "text/plain": [
       "0    704\n",
       "1    704\n",
       "2    704\n",
       "3    704\n",
       "4    704\n",
       "Name: VAR_ROUTE, dtype: object"
      ]
     },
     "execution_count": 19,
     "metadata": {},
     "output_type": "execute_result"
    }
   ],
   "source": [
    "# playing around with combining different commands\n",
    "rapid_BRT.VAR_ROUTE.head()"
   ]
  },
  {
   "cell_type": "markdown",
   "metadata": {},
   "source": [
    "The output shows the first five values for the a single column."
   ]
  },
  {
   "cell_type": "markdown",
   "metadata": {},
   "source": [
    "Checking to see the frequency of each variable in one column."
   ]
  },
  {
   "cell_type": "code",
   "execution_count": 20,
   "metadata": {},
   "outputs": [
    {
     "data": {
      "text/plain": [
       "720    10\n",
       "745     7\n",
       "704     6\n",
       "728     5\n",
       "744     5\n",
       "733     4\n",
       "705     4\n",
       "762     4\n",
       "734     4\n",
       "780     4\n",
       "754     4\n",
       "901     4\n",
       "760     4\n",
       "750     3\n",
       "770     3\n",
       "710     3\n",
       "740     3\n",
       "794     2\n",
       "788     2\n",
       "751     2\n",
       "757     2\n",
       "910     2\n",
       "Name: VAR_ROUTE, dtype: int64"
      ]
     },
     "execution_count": 20,
     "metadata": {},
     "output_type": "execute_result"
    }
   ],
   "source": [
    "# how many VAR_ROUTE variables are there in this column?\n",
    "rapid_BRT['VAR_ROUTE'].value_counts()"
   ]
  },
  {
   "cell_type": "markdown",
   "metadata": {},
   "source": [
    "The output shows the how many times each bus route comes up in VAR_ROUTE. "
   ]
  },
  {
   "cell_type": "markdown",
   "metadata": {},
   "source": [
    "Going to define the above column as a variable to save on time if I want to access it later."
   ]
  },
  {
   "cell_type": "code",
   "execution_count": 21,
   "metadata": {},
   "outputs": [
    {
     "data": {
      "text/plain": [
       "720    10\n",
       "745     7\n",
       "704     6\n",
       "728     5\n",
       "744     5\n",
       "733     4\n",
       "705     4\n",
       "762     4\n",
       "734     4\n",
       "780     4\n",
       "754     4\n",
       "901     4\n",
       "760     4\n",
       "750     3\n",
       "770     3\n",
       "710     3\n",
       "740     3\n",
       "794     2\n",
       "788     2\n",
       "751     2\n",
       "757     2\n",
       "910     2\n",
       "Name: VAR_ROUTE, dtype: int64"
      ]
     },
     "execution_count": 21,
     "metadata": {},
     "output_type": "execute_result"
    }
   ],
   "source": [
    "# saving bus route as a variable \n",
    "bus_count = rapid_BRT['VAR_ROUTE'].value_counts()\n",
    "bus_count"
   ]
  },
  {
   "cell_type": "markdown",
   "metadata": {},
   "source": [
    "I now have a new variable that's defined. "
   ]
  },
  {
   "cell_type": "markdown",
   "metadata": {},
   "source": [
    "Checking to see the type of my new variable. "
   ]
  },
  {
   "cell_type": "code",
   "execution_count": 22,
   "metadata": {},
   "outputs": [
    {
     "data": {
      "text/plain": [
       "pandas.core.series.Series"
      ]
     },
     "execution_count": 22,
     "metadata": {},
     "output_type": "execute_result"
    }
   ],
   "source": [
    "# checking the type\n",
    "type(bus_count)"
   ]
  },
  {
   "cell_type": "markdown",
   "metadata": {},
   "source": [
    "This variable is a pd. "
   ]
  },
  {
   "cell_type": "markdown",
   "metadata": {},
   "source": [
    "Checking the tails of another column."
   ]
  },
  {
   "cell_type": "code",
   "execution_count": 25,
   "metadata": {},
   "outputs": [
    {
     "data": {
      "text/plain": [
       "0     E1\n",
       "1     E3\n",
       "2     E6\n",
       "3     W1\n",
       "4     W3\n",
       "      ..\n",
       "82    E2\n",
       "83    W1\n",
       "84    W2\n",
       "85    N1\n",
       "86    S1\n",
       "Name: VAR_IDENT, Length: 87, dtype: object"
      ]
     },
     "execution_count": 25,
     "metadata": {},
     "output_type": "execute_result"
    }
   ],
   "source": [
    "# curious to the variables in VAR_IDENT\n",
    "rapid_BRT.VAR_IDENT"
   ]
  },
  {
   "cell_type": "markdown",
   "metadata": {},
   "source": [
    "Output shows the tail ends of VAR_IDENT."
   ]
  },
  {
   "cell_type": "markdown",
   "metadata": {},
   "source": [
    "I want to see the frequency of each VAR_IDENT variable."
   ]
  },
  {
   "cell_type": "code",
   "execution_count": 25,
   "metadata": {},
   "outputs": [
    {
     "data": {
      "text/plain": [
       "N1    17\n",
       "S1    13\n",
       "E1    13\n",
       "W1     9\n",
       "W2     5\n",
       "E2     5\n",
       "N2     5\n",
       "S2     3\n",
       "W3     3\n",
       "E3     3\n",
       "N3     2\n",
       "EB     1\n",
       "SP     1\n",
       "E7     1\n",
       "E4     1\n",
       "E5     1\n",
       "E6     1\n",
       "W5     1\n",
       "N4     1\n",
       "NP     1\n",
       "Name: VAR_IDENT, dtype: int64"
      ]
     },
     "execution_count": 25,
     "metadata": {},
     "output_type": "execute_result"
    }
   ],
   "source": [
    "# I want to see the value counts for VAR_IDENT\n",
    "rapid_BRT['VAR_IDENT'].value_counts()"
   ]
  },
  {
   "cell_type": "markdown",
   "metadata": {},
   "source": [
    "The above shows how many times each variable comes up in this particular column."
   ]
  },
  {
   "cell_type": "markdown",
   "metadata": {},
   "source": [
    "**Filtering the data**"
   ]
  },
  {
   "cell_type": "markdown",
   "metadata": {},
   "source": [
    "Checking the info on my data again."
   ]
  },
  {
   "cell_type": "code",
   "execution_count": 26,
   "metadata": {
    "scrolled": true
   },
   "outputs": [
    {
     "name": "stdout",
     "output_type": "stream",
     "text": [
      "<class 'geopandas.geodataframe.GeoDataFrame'>\n",
      "RangeIndex: 87 entries, 0 to 86\n",
      "Data columns (total 5 columns):\n",
      " #   Column     Non-Null Count  Dtype   \n",
      "---  ------     --------------  -----   \n",
      " 0   VAR_ROUTE  87 non-null     object  \n",
      " 1   VAR_IDENT  87 non-null     object  \n",
      " 2   VAR_DIREC  87 non-null     int64   \n",
      " 3   VAR_DESCR  85 non-null     object  \n",
      " 4   geometry   87 non-null     geometry\n",
      "dtypes: geometry(1), int64(1), object(3)\n",
      "memory usage: 3.5+ KB\n"
     ]
    }
   ],
   "source": [
    "#what am i working with again? \n",
    "rapid_BRT.info()"
   ]
  },
  {
   "cell_type": "markdown",
   "metadata": {},
   "source": [
    "Again, the above details what's in my data. "
   ]
  },
  {
   "cell_type": "markdown",
   "metadata": {},
   "source": [
    "I don't know what I want to trim yet, so I'm going to take a look at my data again."
   ]
  },
  {
   "cell_type": "code",
   "execution_count": 27,
   "metadata": {},
   "outputs": [
    {
     "data": {
      "text/html": [
       "<div>\n",
       "<style scoped>\n",
       "    .dataframe tbody tr th:only-of-type {\n",
       "        vertical-align: middle;\n",
       "    }\n",
       "\n",
       "    .dataframe tbody tr th {\n",
       "        vertical-align: top;\n",
       "    }\n",
       "\n",
       "    .dataframe thead th {\n",
       "        text-align: right;\n",
       "    }\n",
       "</style>\n",
       "<table border=\"1\" class=\"dataframe\">\n",
       "  <thead>\n",
       "    <tr style=\"text-align: right;\">\n",
       "      <th></th>\n",
       "      <th>VAR_ROUTE</th>\n",
       "      <th>VAR_IDENT</th>\n",
       "      <th>VAR_DIREC</th>\n",
       "      <th>VAR_DESCR</th>\n",
       "      <th>geometry</th>\n",
       "    </tr>\n",
       "  </thead>\n",
       "  <tbody>\n",
       "    <tr>\n",
       "      <th>0</th>\n",
       "      <td>704</td>\n",
       "      <td>E1</td>\n",
       "      <td>2</td>\n",
       "      <td>END TO END - RAPID - TO DIV13O</td>\n",
       "      <td>LINESTRING (-118.49997 34.01574, -118.50054 34...</td>\n",
       "    </tr>\n",
       "    <tr>\n",
       "      <th>1</th>\n",
       "      <td>704</td>\n",
       "      <td>E3</td>\n",
       "      <td>2</td>\n",
       "      <td>NEBSEP Shortline</td>\n",
       "      <td>LINESTRING (-118.44327 34.04567, -118.44335 34...</td>\n",
       "    </tr>\n",
       "    <tr>\n",
       "      <th>2</th>\n",
       "      <td>704</td>\n",
       "      <td>E6</td>\n",
       "      <td>2</td>\n",
       "      <td>TRIPS START SEPSAN</td>\n",
       "      <td>LINESTRING (-118.44356 34.04791, -118.44354 34...</td>\n",
       "    </tr>\n",
       "    <tr>\n",
       "      <th>3</th>\n",
       "      <td>704</td>\n",
       "      <td>W1</td>\n",
       "      <td>3</td>\n",
       "      <td>END TO END- RAPID - FROM DIV13O</td>\n",
       "      <td>LINESTRING (-118.23190 34.05663, -118.23230 34...</td>\n",
       "    </tr>\n",
       "    <tr>\n",
       "      <th>4</th>\n",
       "      <td>704</td>\n",
       "      <td>W3</td>\n",
       "      <td>3</td>\n",
       "      <td>NEBSEP Shortline</td>\n",
       "      <td>LINESTRING (-118.38430 34.08485, -118.38471 34...</td>\n",
       "    </tr>\n",
       "    <tr>\n",
       "      <th>...</th>\n",
       "      <td>...</td>\n",
       "      <td>...</td>\n",
       "      <td>...</td>\n",
       "      <td>...</td>\n",
       "      <td>...</td>\n",
       "    </tr>\n",
       "    <tr>\n",
       "      <th>82</th>\n",
       "      <td>901</td>\n",
       "      <td>E2</td>\n",
       "      <td>2</td>\n",
       "      <td>CANOGA STATION LAYOVER</td>\n",
       "      <td>LINESTRING (-118.59682 34.19051, -118.59747 34...</td>\n",
       "    </tr>\n",
       "    <tr>\n",
       "      <th>83</th>\n",
       "      <td>901</td>\n",
       "      <td>W1</td>\n",
       "      <td>3</td>\n",
       "      <td>END TO END</td>\n",
       "      <td>LINESTRING (-118.37799 34.16852, -118.37744 34...</td>\n",
       "    </tr>\n",
       "    <tr>\n",
       "      <th>84</th>\n",
       "      <td>901</td>\n",
       "      <td>W2</td>\n",
       "      <td>3</td>\n",
       "      <td>CANOGA STATION LAYOVER</td>\n",
       "      <td>LINESTRING (-118.57169 34.18742, -118.57207 34...</td>\n",
       "    </tr>\n",
       "    <tr>\n",
       "      <th>85</th>\n",
       "      <td>910</td>\n",
       "      <td>N1</td>\n",
       "      <td>0</td>\n",
       "      <td>END TO END</td>\n",
       "      <td>LINESTRING (-118.28798 33.72493, -118.28798 33...</td>\n",
       "    </tr>\n",
       "    <tr>\n",
       "      <th>86</th>\n",
       "      <td>910</td>\n",
       "      <td>S1</td>\n",
       "      <td>1</td>\n",
       "      <td>None</td>\n",
       "      <td>LINESTRING (-118.04513 34.07202, -118.04598 34...</td>\n",
       "    </tr>\n",
       "  </tbody>\n",
       "</table>\n",
       "<p>87 rows × 5 columns</p>\n",
       "</div>"
      ],
      "text/plain": [
       "   VAR_ROUTE VAR_IDENT  VAR_DIREC                        VAR_DESCR  \\\n",
       "0        704        E1          2   END TO END - RAPID - TO DIV13O   \n",
       "1        704        E3          2                 NEBSEP Shortline   \n",
       "2        704        E6          2               TRIPS START SEPSAN   \n",
       "3        704        W1          3  END TO END- RAPID - FROM DIV13O   \n",
       "4        704        W3          3                 NEBSEP Shortline   \n",
       "..       ...       ...        ...                              ...   \n",
       "82       901        E2          2           CANOGA STATION LAYOVER   \n",
       "83       901        W1          3                       END TO END   \n",
       "84       901        W2          3           CANOGA STATION LAYOVER   \n",
       "85       910        N1          0                       END TO END   \n",
       "86       910        S1          1                             None   \n",
       "\n",
       "                                             geometry  \n",
       "0   LINESTRING (-118.49997 34.01574, -118.50054 34...  \n",
       "1   LINESTRING (-118.44327 34.04567, -118.44335 34...  \n",
       "2   LINESTRING (-118.44356 34.04791, -118.44354 34...  \n",
       "3   LINESTRING (-118.23190 34.05663, -118.23230 34...  \n",
       "4   LINESTRING (-118.38430 34.08485, -118.38471 34...  \n",
       "..                                                ...  \n",
       "82  LINESTRING (-118.59682 34.19051, -118.59747 34...  \n",
       "83  LINESTRING (-118.37799 34.16852, -118.37744 34...  \n",
       "84  LINESTRING (-118.57169 34.18742, -118.57207 34...  \n",
       "85  LINESTRING (-118.28798 33.72493, -118.28798 33...  \n",
       "86  LINESTRING (-118.04513 34.07202, -118.04598 34...  \n",
       "\n",
       "[87 rows x 5 columns]"
      ]
     },
     "execution_count": 27,
     "metadata": {},
     "output_type": "execute_result"
    }
   ],
   "source": [
    "rapid_BRT"
   ]
  },
  {
   "cell_type": "markdown",
   "metadata": {},
   "source": [
    "Output shows tail ends of my data. "
   ]
  },
  {
   "cell_type": "markdown",
   "metadata": {},
   "source": [
    "*I'm unsure how the above and below commands differ. Reminder to look at this again.*"
   ]
  },
  {
   "cell_type": "markdown",
   "metadata": {},
   "source": [
    "I am feeding a df a list of column names."
   ]
  },
  {
   "cell_type": "code",
   "execution_count": 28,
   "metadata": {
    "scrolled": false
   },
   "outputs": [
    {
     "data": {
      "text/html": [
       "<div>\n",
       "<style scoped>\n",
       "    .dataframe tbody tr th:only-of-type {\n",
       "        vertical-align: middle;\n",
       "    }\n",
       "\n",
       "    .dataframe tbody tr th {\n",
       "        vertical-align: top;\n",
       "    }\n",
       "\n",
       "    .dataframe thead th {\n",
       "        text-align: right;\n",
       "    }\n",
       "</style>\n",
       "<table border=\"1\" class=\"dataframe\">\n",
       "  <thead>\n",
       "    <tr style=\"text-align: right;\">\n",
       "      <th></th>\n",
       "      <th>VAR_ROUTE</th>\n",
       "      <th>VAR_IDENT</th>\n",
       "      <th>VAR_DIREC</th>\n",
       "      <th>VAR_DESCR</th>\n",
       "      <th>geometry</th>\n",
       "    </tr>\n",
       "  </thead>\n",
       "  <tbody>\n",
       "    <tr>\n",
       "      <th>0</th>\n",
       "      <td>704</td>\n",
       "      <td>E1</td>\n",
       "      <td>2</td>\n",
       "      <td>END TO END - RAPID - TO DIV13O</td>\n",
       "      <td>LINESTRING (-118.49997 34.01574, -118.50054 34...</td>\n",
       "    </tr>\n",
       "    <tr>\n",
       "      <th>1</th>\n",
       "      <td>704</td>\n",
       "      <td>E3</td>\n",
       "      <td>2</td>\n",
       "      <td>NEBSEP Shortline</td>\n",
       "      <td>LINESTRING (-118.44327 34.04567, -118.44335 34...</td>\n",
       "    </tr>\n",
       "    <tr>\n",
       "      <th>2</th>\n",
       "      <td>704</td>\n",
       "      <td>E6</td>\n",
       "      <td>2</td>\n",
       "      <td>TRIPS START SEPSAN</td>\n",
       "      <td>LINESTRING (-118.44356 34.04791, -118.44354 34...</td>\n",
       "    </tr>\n",
       "    <tr>\n",
       "      <th>3</th>\n",
       "      <td>704</td>\n",
       "      <td>W1</td>\n",
       "      <td>3</td>\n",
       "      <td>END TO END- RAPID - FROM DIV13O</td>\n",
       "      <td>LINESTRING (-118.23190 34.05663, -118.23230 34...</td>\n",
       "    </tr>\n",
       "    <tr>\n",
       "      <th>4</th>\n",
       "      <td>704</td>\n",
       "      <td>W3</td>\n",
       "      <td>3</td>\n",
       "      <td>NEBSEP Shortline</td>\n",
       "      <td>LINESTRING (-118.38430 34.08485, -118.38471 34...</td>\n",
       "    </tr>\n",
       "    <tr>\n",
       "      <th>...</th>\n",
       "      <td>...</td>\n",
       "      <td>...</td>\n",
       "      <td>...</td>\n",
       "      <td>...</td>\n",
       "      <td>...</td>\n",
       "    </tr>\n",
       "    <tr>\n",
       "      <th>82</th>\n",
       "      <td>901</td>\n",
       "      <td>E2</td>\n",
       "      <td>2</td>\n",
       "      <td>CANOGA STATION LAYOVER</td>\n",
       "      <td>LINESTRING (-118.59682 34.19051, -118.59747 34...</td>\n",
       "    </tr>\n",
       "    <tr>\n",
       "      <th>83</th>\n",
       "      <td>901</td>\n",
       "      <td>W1</td>\n",
       "      <td>3</td>\n",
       "      <td>END TO END</td>\n",
       "      <td>LINESTRING (-118.37799 34.16852, -118.37744 34...</td>\n",
       "    </tr>\n",
       "    <tr>\n",
       "      <th>84</th>\n",
       "      <td>901</td>\n",
       "      <td>W2</td>\n",
       "      <td>3</td>\n",
       "      <td>CANOGA STATION LAYOVER</td>\n",
       "      <td>LINESTRING (-118.57169 34.18742, -118.57207 34...</td>\n",
       "    </tr>\n",
       "    <tr>\n",
       "      <th>85</th>\n",
       "      <td>910</td>\n",
       "      <td>N1</td>\n",
       "      <td>0</td>\n",
       "      <td>END TO END</td>\n",
       "      <td>LINESTRING (-118.28798 33.72493, -118.28798 33...</td>\n",
       "    </tr>\n",
       "    <tr>\n",
       "      <th>86</th>\n",
       "      <td>910</td>\n",
       "      <td>S1</td>\n",
       "      <td>1</td>\n",
       "      <td>None</td>\n",
       "      <td>LINESTRING (-118.04513 34.07202, -118.04598 34...</td>\n",
       "    </tr>\n",
       "  </tbody>\n",
       "</table>\n",
       "<p>87 rows × 5 columns</p>\n",
       "</div>"
      ],
      "text/plain": [
       "   VAR_ROUTE VAR_IDENT  VAR_DIREC                        VAR_DESCR  \\\n",
       "0        704        E1          2   END TO END - RAPID - TO DIV13O   \n",
       "1        704        E3          2                 NEBSEP Shortline   \n",
       "2        704        E6          2               TRIPS START SEPSAN   \n",
       "3        704        W1          3  END TO END- RAPID - FROM DIV13O   \n",
       "4        704        W3          3                 NEBSEP Shortline   \n",
       "..       ...       ...        ...                              ...   \n",
       "82       901        E2          2           CANOGA STATION LAYOVER   \n",
       "83       901        W1          3                       END TO END   \n",
       "84       901        W2          3           CANOGA STATION LAYOVER   \n",
       "85       910        N1          0                       END TO END   \n",
       "86       910        S1          1                             None   \n",
       "\n",
       "                                             geometry  \n",
       "0   LINESTRING (-118.49997 34.01574, -118.50054 34...  \n",
       "1   LINESTRING (-118.44327 34.04567, -118.44335 34...  \n",
       "2   LINESTRING (-118.44356 34.04791, -118.44354 34...  \n",
       "3   LINESTRING (-118.23190 34.05663, -118.23230 34...  \n",
       "4   LINESTRING (-118.38430 34.08485, -118.38471 34...  \n",
       "..                                                ...  \n",
       "82  LINESTRING (-118.59682 34.19051, -118.59747 34...  \n",
       "83  LINESTRING (-118.37799 34.16852, -118.37744 34...  \n",
       "84  LINESTRING (-118.57169 34.18742, -118.57207 34...  \n",
       "85  LINESTRING (-118.28798 33.72493, -118.28798 33...  \n",
       "86  LINESTRING (-118.04513 34.07202, -118.04598 34...  \n",
       "\n",
       "[87 rows x 5 columns]"
      ]
     },
     "execution_count": 28,
     "metadata": {},
     "output_type": "execute_result"
    }
   ],
   "source": [
    "# dataframe \n",
    "## Apparently, I am feeding the list the dataframe a list of column names\n",
    "rapid_BRT[['VAR_ROUTE', 'VAR_IDENT', 'VAR_DIREC', 'VAR_DESCR', 'geometry']]"
   ]
  },
  {
   "cell_type": "markdown",
   "metadata": {},
   "source": [
    "What I think I was supposed to do feed the df a particular set of columns, not just all of them, but at least I know that now...."
   ]
  },
  {
   "cell_type": "markdown",
   "metadata": {},
   "source": [
    "Going to select the columns/stuff I want from the above table"
   ]
  },
  {
   "cell_type": "code",
   "execution_count": 29,
   "metadata": {},
   "outputs": [],
   "source": [
    "stuff_i_want = ['VAR_ROUTE', 'VAR_IDENT', 'geometry']"
   ]
  },
  {
   "cell_type": "markdown",
   "metadata": {},
   "source": [
    "Variable created that corresponds to certain columns"
   ]
  },
  {
   "cell_type": "markdown",
   "metadata": {},
   "source": [
    "Going to run my new variable and see what happens."
   ]
  },
  {
   "cell_type": "code",
   "execution_count": 30,
   "metadata": {},
   "outputs": [
    {
     "data": {
      "text/plain": [
       "['VAR_ROUTE', 'VAR_IDENT', 'geometry']"
      ]
     },
     "execution_count": 30,
     "metadata": {},
     "output_type": "execute_result"
    }
   ],
   "source": [
    "# what happens when I execute stuff_i_want? will i get the table?\n",
    "stuff_i_want"
   ]
  },
  {
   "cell_type": "markdown",
   "metadata": {},
   "source": [
    "New variable shows its associated columns."
   ]
  },
  {
   "cell_type": "markdown",
   "metadata": {},
   "source": [
    "Will now produce a table from my new variable."
   ]
  },
  {
   "cell_type": "code",
   "execution_count": 31,
   "metadata": {
    "scrolled": true
   },
   "outputs": [
    {
     "data": {
      "text/html": [
       "<div>\n",
       "<style scoped>\n",
       "    .dataframe tbody tr th:only-of-type {\n",
       "        vertical-align: middle;\n",
       "    }\n",
       "\n",
       "    .dataframe tbody tr th {\n",
       "        vertical-align: top;\n",
       "    }\n",
       "\n",
       "    .dataframe thead th {\n",
       "        text-align: right;\n",
       "    }\n",
       "</style>\n",
       "<table border=\"1\" class=\"dataframe\">\n",
       "  <thead>\n",
       "    <tr style=\"text-align: right;\">\n",
       "      <th></th>\n",
       "      <th>VAR_ROUTE</th>\n",
       "      <th>VAR_IDENT</th>\n",
       "      <th>geometry</th>\n",
       "    </tr>\n",
       "  </thead>\n",
       "  <tbody>\n",
       "    <tr>\n",
       "      <th>0</th>\n",
       "      <td>704</td>\n",
       "      <td>E1</td>\n",
       "      <td>LINESTRING (-118.49997 34.01574, -118.50054 34...</td>\n",
       "    </tr>\n",
       "    <tr>\n",
       "      <th>1</th>\n",
       "      <td>704</td>\n",
       "      <td>E3</td>\n",
       "      <td>LINESTRING (-118.44327 34.04567, -118.44335 34...</td>\n",
       "    </tr>\n",
       "    <tr>\n",
       "      <th>2</th>\n",
       "      <td>704</td>\n",
       "      <td>E6</td>\n",
       "      <td>LINESTRING (-118.44356 34.04791, -118.44354 34...</td>\n",
       "    </tr>\n",
       "    <tr>\n",
       "      <th>3</th>\n",
       "      <td>704</td>\n",
       "      <td>W1</td>\n",
       "      <td>LINESTRING (-118.23190 34.05663, -118.23230 34...</td>\n",
       "    </tr>\n",
       "    <tr>\n",
       "      <th>4</th>\n",
       "      <td>704</td>\n",
       "      <td>W3</td>\n",
       "      <td>LINESTRING (-118.38430 34.08485, -118.38471 34...</td>\n",
       "    </tr>\n",
       "    <tr>\n",
       "      <th>...</th>\n",
       "      <td>...</td>\n",
       "      <td>...</td>\n",
       "      <td>...</td>\n",
       "    </tr>\n",
       "    <tr>\n",
       "      <th>82</th>\n",
       "      <td>901</td>\n",
       "      <td>E2</td>\n",
       "      <td>LINESTRING (-118.59682 34.19051, -118.59747 34...</td>\n",
       "    </tr>\n",
       "    <tr>\n",
       "      <th>83</th>\n",
       "      <td>901</td>\n",
       "      <td>W1</td>\n",
       "      <td>LINESTRING (-118.37799 34.16852, -118.37744 34...</td>\n",
       "    </tr>\n",
       "    <tr>\n",
       "      <th>84</th>\n",
       "      <td>901</td>\n",
       "      <td>W2</td>\n",
       "      <td>LINESTRING (-118.57169 34.18742, -118.57207 34...</td>\n",
       "    </tr>\n",
       "    <tr>\n",
       "      <th>85</th>\n",
       "      <td>910</td>\n",
       "      <td>N1</td>\n",
       "      <td>LINESTRING (-118.28798 33.72493, -118.28798 33...</td>\n",
       "    </tr>\n",
       "    <tr>\n",
       "      <th>86</th>\n",
       "      <td>910</td>\n",
       "      <td>S1</td>\n",
       "      <td>LINESTRING (-118.04513 34.07202, -118.04598 34...</td>\n",
       "    </tr>\n",
       "  </tbody>\n",
       "</table>\n",
       "<p>87 rows × 3 columns</p>\n",
       "</div>"
      ],
      "text/plain": [
       "   VAR_ROUTE VAR_IDENT                                           geometry\n",
       "0        704        E1  LINESTRING (-118.49997 34.01574, -118.50054 34...\n",
       "1        704        E3  LINESTRING (-118.44327 34.04567, -118.44335 34...\n",
       "2        704        E6  LINESTRING (-118.44356 34.04791, -118.44354 34...\n",
       "3        704        W1  LINESTRING (-118.23190 34.05663, -118.23230 34...\n",
       "4        704        W3  LINESTRING (-118.38430 34.08485, -118.38471 34...\n",
       "..       ...       ...                                                ...\n",
       "82       901        E2  LINESTRING (-118.59682 34.19051, -118.59747 34...\n",
       "83       901        W1  LINESTRING (-118.37799 34.16852, -118.37744 34...\n",
       "84       901        W2  LINESTRING (-118.57169 34.18742, -118.57207 34...\n",
       "85       910        N1  LINESTRING (-118.28798 33.72493, -118.28798 33...\n",
       "86       910        S1  LINESTRING (-118.04513 34.07202, -118.04598 34...\n",
       "\n",
       "[87 rows x 3 columns]"
      ]
     },
     "execution_count": 31,
     "metadata": {},
     "output_type": "execute_result"
    }
   ],
   "source": [
    "# did not get the table, i need to apply stuff_i_want to rapid_BRT with brackets\n",
    "rapid_BRT[stuff_i_want]"
   ]
  },
  {
   "cell_type": "markdown",
   "metadata": {},
   "source": [
    "New table for my new variable that lists only certain columns. "
   ]
  },
  {
   "cell_type": "markdown",
   "metadata": {},
   "source": [
    "\n",
    "I'm going to define my trimmed dataset, will also copy my data as good practice\n",
    "\n",
    "\n"
   ]
  },
  {
   "cell_type": "code",
   "execution_count": 32,
   "metadata": {},
   "outputs": [
    {
     "data": {
      "text/html": [
       "<div>\n",
       "<style scoped>\n",
       "    .dataframe tbody tr th:only-of-type {\n",
       "        vertical-align: middle;\n",
       "    }\n",
       "\n",
       "    .dataframe tbody tr th {\n",
       "        vertical-align: top;\n",
       "    }\n",
       "\n",
       "    .dataframe thead th {\n",
       "        text-align: right;\n",
       "    }\n",
       "</style>\n",
       "<table border=\"1\" class=\"dataframe\">\n",
       "  <thead>\n",
       "    <tr style=\"text-align: right;\">\n",
       "      <th></th>\n",
       "      <th>VAR_ROUTE</th>\n",
       "      <th>VAR_IDENT</th>\n",
       "      <th>geometry</th>\n",
       "    </tr>\n",
       "  </thead>\n",
       "  <tbody>\n",
       "    <tr>\n",
       "      <th>0</th>\n",
       "      <td>704</td>\n",
       "      <td>E1</td>\n",
       "      <td>LINESTRING (-118.49997 34.01574, -118.50054 34...</td>\n",
       "    </tr>\n",
       "    <tr>\n",
       "      <th>1</th>\n",
       "      <td>704</td>\n",
       "      <td>E3</td>\n",
       "      <td>LINESTRING (-118.44327 34.04567, -118.44335 34...</td>\n",
       "    </tr>\n",
       "    <tr>\n",
       "      <th>2</th>\n",
       "      <td>704</td>\n",
       "      <td>E6</td>\n",
       "      <td>LINESTRING (-118.44356 34.04791, -118.44354 34...</td>\n",
       "    </tr>\n",
       "    <tr>\n",
       "      <th>3</th>\n",
       "      <td>704</td>\n",
       "      <td>W1</td>\n",
       "      <td>LINESTRING (-118.23190 34.05663, -118.23230 34...</td>\n",
       "    </tr>\n",
       "    <tr>\n",
       "      <th>4</th>\n",
       "      <td>704</td>\n",
       "      <td>W3</td>\n",
       "      <td>LINESTRING (-118.38430 34.08485, -118.38471 34...</td>\n",
       "    </tr>\n",
       "    <tr>\n",
       "      <th>...</th>\n",
       "      <td>...</td>\n",
       "      <td>...</td>\n",
       "      <td>...</td>\n",
       "    </tr>\n",
       "    <tr>\n",
       "      <th>82</th>\n",
       "      <td>901</td>\n",
       "      <td>E2</td>\n",
       "      <td>LINESTRING (-118.59682 34.19051, -118.59747 34...</td>\n",
       "    </tr>\n",
       "    <tr>\n",
       "      <th>83</th>\n",
       "      <td>901</td>\n",
       "      <td>W1</td>\n",
       "      <td>LINESTRING (-118.37799 34.16852, -118.37744 34...</td>\n",
       "    </tr>\n",
       "    <tr>\n",
       "      <th>84</th>\n",
       "      <td>901</td>\n",
       "      <td>W2</td>\n",
       "      <td>LINESTRING (-118.57169 34.18742, -118.57207 34...</td>\n",
       "    </tr>\n",
       "    <tr>\n",
       "      <th>85</th>\n",
       "      <td>910</td>\n",
       "      <td>N1</td>\n",
       "      <td>LINESTRING (-118.28798 33.72493, -118.28798 33...</td>\n",
       "    </tr>\n",
       "    <tr>\n",
       "      <th>86</th>\n",
       "      <td>910</td>\n",
       "      <td>S1</td>\n",
       "      <td>LINESTRING (-118.04513 34.07202, -118.04598 34...</td>\n",
       "    </tr>\n",
       "  </tbody>\n",
       "</table>\n",
       "<p>87 rows × 3 columns</p>\n",
       "</div>"
      ],
      "text/plain": [
       "   VAR_ROUTE VAR_IDENT                                           geometry\n",
       "0        704        E1  LINESTRING (-118.49997 34.01574, -118.50054 34...\n",
       "1        704        E3  LINESTRING (-118.44327 34.04567, -118.44335 34...\n",
       "2        704        E6  LINESTRING (-118.44356 34.04791, -118.44354 34...\n",
       "3        704        W1  LINESTRING (-118.23190 34.05663, -118.23230 34...\n",
       "4        704        W3  LINESTRING (-118.38430 34.08485, -118.38471 34...\n",
       "..       ...       ...                                                ...\n",
       "82       901        E2  LINESTRING (-118.59682 34.19051, -118.59747 34...\n",
       "83       901        W1  LINESTRING (-118.37799 34.16852, -118.37744 34...\n",
       "84       901        W2  LINESTRING (-118.57169 34.18742, -118.57207 34...\n",
       "85       910        N1  LINESTRING (-118.28798 33.72493, -118.28798 33...\n",
       "86       910        S1  LINESTRING (-118.04513 34.07202, -118.04598 34...\n",
       "\n",
       "[87 rows x 3 columns]"
      ]
     },
     "execution_count": 32,
     "metadata": {},
     "output_type": "execute_result"
    }
   ],
   "source": [
    "rapid_BRT_trimmed = rapid_BRT[stuff_i_want].copy()\n",
    "rapid_BRT_trimmed"
   ]
  },
  {
   "cell_type": "markdown",
   "metadata": {},
   "source": [
    "I now have a new variable that was created from another variable I created"
   ]
  },
  {
   "cell_type": "markdown",
   "metadata": {},
   "source": [
    "I want to experiment with other filtering methods"
   ]
  },
  {
   "cell_type": "code",
   "execution_count": 33,
   "metadata": {},
   "outputs": [
    {
     "data": {
      "text/html": [
       "<div>\n",
       "<style scoped>\n",
       "    .dataframe tbody tr th:only-of-type {\n",
       "        vertical-align: middle;\n",
       "    }\n",
       "\n",
       "    .dataframe tbody tr th {\n",
       "        vertical-align: top;\n",
       "    }\n",
       "\n",
       "    .dataframe thead th {\n",
       "        text-align: right;\n",
       "    }\n",
       "</style>\n",
       "<table border=\"1\" class=\"dataframe\">\n",
       "  <thead>\n",
       "    <tr style=\"text-align: right;\">\n",
       "      <th></th>\n",
       "      <th>VAR_ROUTE</th>\n",
       "      <th>VAR_IDENT</th>\n",
       "      <th>geometry</th>\n",
       "    </tr>\n",
       "  </thead>\n",
       "  <tbody>\n",
       "    <tr>\n",
       "      <th>0</th>\n",
       "      <td>704</td>\n",
       "      <td>E1</td>\n",
       "      <td>LINESTRING (-118.49997 34.01574, -118.50054 34...</td>\n",
       "    </tr>\n",
       "    <tr>\n",
       "      <th>1</th>\n",
       "      <td>704</td>\n",
       "      <td>E3</td>\n",
       "      <td>LINESTRING (-118.44327 34.04567, -118.44335 34...</td>\n",
       "    </tr>\n",
       "    <tr>\n",
       "      <th>2</th>\n",
       "      <td>704</td>\n",
       "      <td>E6</td>\n",
       "      <td>LINESTRING (-118.44356 34.04791, -118.44354 34...</td>\n",
       "    </tr>\n",
       "    <tr>\n",
       "      <th>3</th>\n",
       "      <td>704</td>\n",
       "      <td>W1</td>\n",
       "      <td>LINESTRING (-118.23190 34.05663, -118.23230 34...</td>\n",
       "    </tr>\n",
       "    <tr>\n",
       "      <th>4</th>\n",
       "      <td>704</td>\n",
       "      <td>W3</td>\n",
       "      <td>LINESTRING (-118.38430 34.08485, -118.38471 34...</td>\n",
       "    </tr>\n",
       "    <tr>\n",
       "      <th>5</th>\n",
       "      <td>704</td>\n",
       "      <td>E1</td>\n",
       "      <td>LINESTRING (-118.23190 34.05663, -118.23230 34...</td>\n",
       "    </tr>\n",
       "  </tbody>\n",
       "</table>\n",
       "</div>"
      ],
      "text/plain": [
       "  VAR_ROUTE VAR_IDENT                                           geometry\n",
       "0       704        E1  LINESTRING (-118.49997 34.01574, -118.50054 34...\n",
       "1       704        E3  LINESTRING (-118.44327 34.04567, -118.44335 34...\n",
       "2       704        E6  LINESTRING (-118.44356 34.04791, -118.44354 34...\n",
       "3       704        W1  LINESTRING (-118.23190 34.05663, -118.23230 34...\n",
       "4       704        W3  LINESTRING (-118.38430 34.08485, -118.38471 34...\n",
       "5       704        E1  LINESTRING (-118.23190 34.05663, -118.23230 34..."
      ]
     },
     "execution_count": 33,
     "metadata": {},
     "output_type": "execute_result"
    }
   ],
   "source": [
    "# slimmed, clean query\n",
    "## future me: watch the syntaxt, aka quote use\n",
    "rapid_BRT_trimmed.query(\"VAR_ROUTE == '704'\")"
   ]
  },
  {
   "cell_type": "markdown",
   "metadata": {},
   "source": [
    "The output shows each row with the 704 value."
   ]
  },
  {
   "cell_type": "markdown",
   "metadata": {},
   "source": [
    "More trimming using loc."
   ]
  },
  {
   "cell_type": "code",
   "execution_count": 34,
   "metadata": {
    "scrolled": true
   },
   "outputs": [
    {
     "data": {
      "text/html": [
       "<div>\n",
       "<style scoped>\n",
       "    .dataframe tbody tr th:only-of-type {\n",
       "        vertical-align: middle;\n",
       "    }\n",
       "\n",
       "    .dataframe tbody tr th {\n",
       "        vertical-align: top;\n",
       "    }\n",
       "\n",
       "    .dataframe thead th {\n",
       "        text-align: right;\n",
       "    }\n",
       "</style>\n",
       "<table border=\"1\" class=\"dataframe\">\n",
       "  <thead>\n",
       "    <tr style=\"text-align: right;\">\n",
       "      <th></th>\n",
       "      <th>VAR_ROUTE</th>\n",
       "      <th>VAR_IDENT</th>\n",
       "      <th>geometry</th>\n",
       "    </tr>\n",
       "  </thead>\n",
       "  <tbody>\n",
       "    <tr>\n",
       "      <th>0</th>\n",
       "      <td>704</td>\n",
       "      <td>E1</td>\n",
       "      <td>LINESTRING (-118.49997 34.01574, -118.50054 34...</td>\n",
       "    </tr>\n",
       "    <tr>\n",
       "      <th>1</th>\n",
       "      <td>704</td>\n",
       "      <td>E3</td>\n",
       "      <td>LINESTRING (-118.44327 34.04567, -118.44335 34...</td>\n",
       "    </tr>\n",
       "    <tr>\n",
       "      <th>2</th>\n",
       "      <td>704</td>\n",
       "      <td>E6</td>\n",
       "      <td>LINESTRING (-118.44356 34.04791, -118.44354 34...</td>\n",
       "    </tr>\n",
       "    <tr>\n",
       "      <th>3</th>\n",
       "      <td>704</td>\n",
       "      <td>W1</td>\n",
       "      <td>LINESTRING (-118.23190 34.05663, -118.23230 34...</td>\n",
       "    </tr>\n",
       "    <tr>\n",
       "      <th>4</th>\n",
       "      <td>704</td>\n",
       "      <td>W3</td>\n",
       "      <td>LINESTRING (-118.38430 34.08485, -118.38471 34...</td>\n",
       "    </tr>\n",
       "    <tr>\n",
       "      <th>5</th>\n",
       "      <td>704</td>\n",
       "      <td>E1</td>\n",
       "      <td>LINESTRING (-118.23190 34.05663, -118.23230 34...</td>\n",
       "    </tr>\n",
       "  </tbody>\n",
       "</table>\n",
       "</div>"
      ],
      "text/plain": [
       "  VAR_ROUTE VAR_IDENT                                           geometry\n",
       "0       704        E1  LINESTRING (-118.49997 34.01574, -118.50054 34...\n",
       "1       704        E3  LINESTRING (-118.44327 34.04567, -118.44335 34...\n",
       "2       704        E6  LINESTRING (-118.44356 34.04791, -118.44354 34...\n",
       "3       704        W1  LINESTRING (-118.23190 34.05663, -118.23230 34...\n",
       "4       704        W3  LINESTRING (-118.38430 34.08485, -118.38471 34...\n",
       "5       704        E1  LINESTRING (-118.23190 34.05663, -118.23230 34..."
      ]
     },
     "execution_count": 34,
     "metadata": {},
     "output_type": "execute_result"
    }
   ],
   "source": [
    "#loc methodology\n",
    "rapid_BRT_trimmed.loc[rapid_BRT_trimmed['VAR_ROUTE'] == '704']"
   ]
  },
  {
   "cell_type": "markdown",
   "metadata": {},
   "source": [
    "This was one was trickier with syntaxt, but can offer robust opportunities. But the slicing remains the same as above."
   ]
  },
  {
   "cell_type": "markdown",
   "metadata": {},
   "source": [
    "Will try a cleaner syntaxt with query to detail VAR_IDENT."
   ]
  },
  {
   "cell_type": "code",
   "execution_count": 35,
   "metadata": {
    "scrolled": true
   },
   "outputs": [
    {
     "data": {
      "text/html": [
       "<div>\n",
       "<style scoped>\n",
       "    .dataframe tbody tr th:only-of-type {\n",
       "        vertical-align: middle;\n",
       "    }\n",
       "\n",
       "    .dataframe tbody tr th {\n",
       "        vertical-align: top;\n",
       "    }\n",
       "\n",
       "    .dataframe thead th {\n",
       "        text-align: right;\n",
       "    }\n",
       "</style>\n",
       "<table border=\"1\" class=\"dataframe\">\n",
       "  <thead>\n",
       "    <tr style=\"text-align: right;\">\n",
       "      <th></th>\n",
       "      <th>VAR_ROUTE</th>\n",
       "      <th>VAR_IDENT</th>\n",
       "      <th>geometry</th>\n",
       "    </tr>\n",
       "  </thead>\n",
       "  <tbody>\n",
       "    <tr>\n",
       "      <th>6</th>\n",
       "      <td>705</td>\n",
       "      <td>N1</td>\n",
       "      <td>LINESTRING (-118.22745 34.00463, -118.22754 34...</td>\n",
       "    </tr>\n",
       "    <tr>\n",
       "      <th>10</th>\n",
       "      <td>710</td>\n",
       "      <td>N1</td>\n",
       "      <td>LINESTRING (-118.35698 33.87176, -118.35696 33...</td>\n",
       "    </tr>\n",
       "    <tr>\n",
       "      <th>32</th>\n",
       "      <td>734</td>\n",
       "      <td>N1</td>\n",
       "      <td>LINESTRING (-118.43460 34.03512, -118.43536 34...</td>\n",
       "    </tr>\n",
       "    <tr>\n",
       "      <th>36</th>\n",
       "      <td>740</td>\n",
       "      <td>N1</td>\n",
       "      <td>LINESTRING (-118.35460 33.86554, -118.35483 33...</td>\n",
       "    </tr>\n",
       "    <tr>\n",
       "      <th>44</th>\n",
       "      <td>745</td>\n",
       "      <td>N1</td>\n",
       "      <td>LINESTRING (-118.28186 33.92774, -118.28191 33...</td>\n",
       "    </tr>\n",
       "    <tr>\n",
       "      <th>49</th>\n",
       "      <td>745</td>\n",
       "      <td>N1</td>\n",
       "      <td>LINESTRING (-118.23190 34.05663, -118.23209 34...</td>\n",
       "    </tr>\n",
       "    <tr>\n",
       "      <th>50</th>\n",
       "      <td>745</td>\n",
       "      <td>N1</td>\n",
       "      <td>LINESTRING (-118.23209 34.05622, -118.23230 34...</td>\n",
       "    </tr>\n",
       "    <tr>\n",
       "      <th>54</th>\n",
       "      <td>751</td>\n",
       "      <td>N1</td>\n",
       "      <td>LINESTRING (-118.22304 33.96346, -118.22298 33...</td>\n",
       "    </tr>\n",
       "    <tr>\n",
       "      <th>56</th>\n",
       "      <td>754</td>\n",
       "      <td>N1</td>\n",
       "      <td>LINESTRING (-118.29150 33.92401, -118.29149 33...</td>\n",
       "    </tr>\n",
       "    <tr>\n",
       "      <th>60</th>\n",
       "      <td>757</td>\n",
       "      <td>N1</td>\n",
       "      <td>LINESTRING (-118.32649 33.92536, -118.32649 33...</td>\n",
       "    </tr>\n",
       "    <tr>\n",
       "      <th>62</th>\n",
       "      <td>760</td>\n",
       "      <td>N1</td>\n",
       "      <td>LINESTRING (-118.20988 33.92443, -118.20991 33...</td>\n",
       "    </tr>\n",
       "    <tr>\n",
       "      <th>66</th>\n",
       "      <td>762</td>\n",
       "      <td>N1</td>\n",
       "      <td>LINESTRING (-118.18452 33.95729, -118.18489 33...</td>\n",
       "    </tr>\n",
       "    <tr>\n",
       "      <th>68</th>\n",
       "      <td>762</td>\n",
       "      <td>N1</td>\n",
       "      <td>LINESTRING (-118.22290 33.87596, -118.22297 33...</td>\n",
       "    </tr>\n",
       "    <tr>\n",
       "      <th>69</th>\n",
       "      <td>762</td>\n",
       "      <td>N1</td>\n",
       "      <td>LINESTRING (-118.18312 33.95191, -118.18323 33...</td>\n",
       "    </tr>\n",
       "    <tr>\n",
       "      <th>77</th>\n",
       "      <td>788</td>\n",
       "      <td>N1</td>\n",
       "      <td>LINESTRING (-118.43460 34.03512, -118.43536 34...</td>\n",
       "    </tr>\n",
       "    <tr>\n",
       "      <th>79</th>\n",
       "      <td>794</td>\n",
       "      <td>N1</td>\n",
       "      <td>LINESTRING (-118.26461 34.03322, -118.26431 34...</td>\n",
       "    </tr>\n",
       "    <tr>\n",
       "      <th>85</th>\n",
       "      <td>910</td>\n",
       "      <td>N1</td>\n",
       "      <td>LINESTRING (-118.28798 33.72493, -118.28798 33...</td>\n",
       "    </tr>\n",
       "  </tbody>\n",
       "</table>\n",
       "</div>"
      ],
      "text/plain": [
       "   VAR_ROUTE VAR_IDENT                                           geometry\n",
       "6        705        N1  LINESTRING (-118.22745 34.00463, -118.22754 34...\n",
       "10       710        N1  LINESTRING (-118.35698 33.87176, -118.35696 33...\n",
       "32       734        N1  LINESTRING (-118.43460 34.03512, -118.43536 34...\n",
       "36       740        N1  LINESTRING (-118.35460 33.86554, -118.35483 33...\n",
       "44       745        N1  LINESTRING (-118.28186 33.92774, -118.28191 33...\n",
       "49       745        N1  LINESTRING (-118.23190 34.05663, -118.23209 34...\n",
       "50       745        N1  LINESTRING (-118.23209 34.05622, -118.23230 34...\n",
       "54       751        N1  LINESTRING (-118.22304 33.96346, -118.22298 33...\n",
       "56       754        N1  LINESTRING (-118.29150 33.92401, -118.29149 33...\n",
       "60       757        N1  LINESTRING (-118.32649 33.92536, -118.32649 33...\n",
       "62       760        N1  LINESTRING (-118.20988 33.92443, -118.20991 33...\n",
       "66       762        N1  LINESTRING (-118.18452 33.95729, -118.18489 33...\n",
       "68       762        N1  LINESTRING (-118.22290 33.87596, -118.22297 33...\n",
       "69       762        N1  LINESTRING (-118.18312 33.95191, -118.18323 33...\n",
       "77       788        N1  LINESTRING (-118.43460 34.03512, -118.43536 34...\n",
       "79       794        N1  LINESTRING (-118.26461 34.03322, -118.26431 34...\n",
       "85       910        N1  LINESTRING (-118.28798 33.72493, -118.28798 33..."
      ]
     },
     "execution_count": 35,
     "metadata": {},
     "output_type": "execute_result"
    }
   ],
   "source": [
    "rapid_BRT_trimmed.query(\"VAR_IDENT == 'N1'\")"
   ]
  },
  {
   "cell_type": "markdown",
   "metadata": {},
   "source": [
    "Output shows N1 rows for VAR_IDENT."
   ]
  },
  {
   "cell_type": "markdown",
   "metadata": {},
   "source": [
    "**Will try some plotting now**"
   ]
  },
  {
   "cell_type": "markdown",
   "metadata": {},
   "source": [
    "I am plotting and have no idea what will happen."
   ]
  },
  {
   "cell_type": "code",
   "execution_count": 36,
   "metadata": {},
   "outputs": [
    {
     "data": {
      "text/plain": [
       "<matplotlib.axes._subplots.AxesSubplot at 0x7f64474a5fa0>"
      ]
     },
     "execution_count": 36,
     "metadata": {},
     "output_type": "execute_result"
    },
    {
     "data": {
      "image/png": "[encoded data removed]",
      "text/plain": [
       "<Figure size 432x288 with 1 Axes>"
      ]
     },
     "metadata": {
      "needs_background": "light"
     },
     "output_type": "display_data"
    }
   ],
   "source": [
    "#curious what will happen with the basic plot command if little information if given\n",
    "rapid_BRT.plot()"
   ]
  },
  {
   "cell_type": "markdown",
   "metadata": {},
   "source": [
    "WOW, that is so cool. I forgot about the spatial component of this dataset. So this plot used the geometry points to map the bus routes."
   ]
  },
  {
   "cell_type": "markdown",
   "metadata": {},
   "source": [
    "Will add some color to my routes."
   ]
  },
  {
   "cell_type": "code",
   "execution_count": 38,
   "metadata": {},
   "outputs": [
    {
     "data": {
      "text/plain": [
       "<matplotlib.axes._subplots.AxesSubplot at 0x7f6443b6f070>"
      ]
     },
     "execution_count": 38,
     "metadata": {},
     "output_type": "execute_result"
    },
    {
     "data": {
      "image/png": "[encoded data removed]",
      "text/plain": [
       "<Figure size 1440x864 with 1 Axes>"
      ]
     },
     "metadata": {
      "needs_background": "light"
     },
     "output_type": "display_data"
    }
   ],
   "source": [
    "# I don'd understand the syntaxt of this command yet, but looked at the WK 2 class notebook and wanted to change the colors of the bus lines\n",
    "rapid_BRT.plot(\n",
    "            figsize=(20,12),   #size of the plot (a bit bigger than the default)\n",
    "            column = 'VAR_ROUTE',   # column that defines the color of the dots\n",
    "            legend = True,     # add a legend           \n",
    "            legend_kwds={\n",
    "               'loc': 'upper right',\n",
    "               'bbox_to_anchor':(1.3,1)\n",
    "            }                  # this puts the legend to the side\n",
    ") "
   ]
  },
  {
   "cell_type": "markdown",
   "metadata": {},
   "source": [
    "Bus routes now have different colors (more or less), and there's a legend as well."
   ]
  }
 ],
 "metadata": {
  "kernelspec": {
   "display_name": "Python 3",
   "language": "python",
   "name": "python3"
  },
  "language_info": {
   "codemirror_mode": {
    "name": "ipython",
    "version": 3
   },
   "file_extension": ".py",
   "mimetype": "text/x-python",
   "name": "python",
   "nbconvert_exporter": "python",
   "pygments_lexer": "ipython3",
   "version": "3.8.5"
  },
  "toc": {
   "base_numbering": 1,
   "nav_menu": {},
   "number_sections": true,
   "sideBar": true,
   "skip_h1_title": false,
   "title_cell": "Table of Contents",
   "title_sidebar": "Contents",
   "toc_cell": false,
   "toc_position": {},
   "toc_section_display": true,
   "toc_window_display": false
  }
 },
 "nbformat": 4,
 "nbformat_minor": 4
}
